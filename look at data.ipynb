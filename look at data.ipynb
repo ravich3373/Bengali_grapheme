{
 "cells": [
  {
   "cell_type": "code",
   "execution_count": 1,
   "metadata": {},
   "outputs": [],
   "source": [
    "import pandas as pd\n",
    "import PIL.Image as Image, PIL.ImageDraw as ImageDraw, PIL.ImageFont as ImageFont\n",
    "import matplotlib.pyplot as plt"
   ]
  },
  {
   "cell_type": "code",
   "execution_count": 2,
   "metadata": {},
   "outputs": [],
   "source": [
    "%matplotlib inline"
   ]
  },
  {
   "cell_type": "code",
   "execution_count": 3,
   "metadata": {},
   "outputs": [
    {
     "name": "stdout",
     "output_type": "stream",
     "text": [
      "class_map.csv\t       test.csv\t\t\t  train.csv\r\n",
      "imgs\t\t       test_image_data_0.parquet  train_image_data_0.parquet\r\n",
      "Kalpurush.ttf\t       test_image_data_1.parquet  train_image_data_1.parquet\r\n",
      "Kalpurush.zip\t       test_image_data_2.parquet  train_image_data_2.parquet\r\n",
      "sample_submission.csv  test_image_data_3.parquet  train_image_data_3.parquet\r\n"
     ]
    }
   ],
   "source": [
    "!ls data/"
   ]
  },
  {
   "cell_type": "code",
   "execution_count": 4,
   "metadata": {},
   "outputs": [],
   "source": [
    "ss = pd.read_csv(\"data/sample_submission.csv\")"
   ]
  },
  {
   "cell_type": "code",
   "execution_count": 5,
   "metadata": {},
   "outputs": [
    {
     "data": {
      "text/html": [
       "<div>\n",
       "<style scoped>\n",
       "    .dataframe tbody tr th:only-of-type {\n",
       "        vertical-align: middle;\n",
       "    }\n",
       "\n",
       "    .dataframe tbody tr th {\n",
       "        vertical-align: top;\n",
       "    }\n",
       "\n",
       "    .dataframe thead th {\n",
       "        text-align: right;\n",
       "    }\n",
       "</style>\n",
       "<table border=\"1\" class=\"dataframe\">\n",
       "  <thead>\n",
       "    <tr style=\"text-align: right;\">\n",
       "      <th></th>\n",
       "      <th>row_id</th>\n",
       "      <th>target</th>\n",
       "    </tr>\n",
       "  </thead>\n",
       "  <tbody>\n",
       "    <tr>\n",
       "      <th>0</th>\n",
       "      <td>Test_0_consonant_diacritic</td>\n",
       "      <td>0</td>\n",
       "    </tr>\n",
       "    <tr>\n",
       "      <th>1</th>\n",
       "      <td>Test_0_grapheme_root</td>\n",
       "      <td>0</td>\n",
       "    </tr>\n",
       "    <tr>\n",
       "      <th>2</th>\n",
       "      <td>Test_0_vowel_diacritic</td>\n",
       "      <td>0</td>\n",
       "    </tr>\n",
       "    <tr>\n",
       "      <th>3</th>\n",
       "      <td>Test_1_consonant_diacritic</td>\n",
       "      <td>0</td>\n",
       "    </tr>\n",
       "  </tbody>\n",
       "</table>\n",
       "</div>"
      ],
      "text/plain": [
       "                       row_id  target\n",
       "0  Test_0_consonant_diacritic       0\n",
       "1        Test_0_grapheme_root       0\n",
       "2      Test_0_vowel_diacritic       0\n",
       "3  Test_1_consonant_diacritic       0"
      ]
     },
     "execution_count": 5,
     "metadata": {},
     "output_type": "execute_result"
    }
   ],
   "source": [
    "ss.head(4)"
   ]
  },
  {
   "cell_type": "code",
   "execution_count": 6,
   "metadata": {},
   "outputs": [],
   "source": [
    "cm = pd.read_csv(\"data/class_map.csv\")"
   ]
  },
  {
   "cell_type": "code",
   "execution_count": 7,
   "metadata": {},
   "outputs": [
    {
     "data": {
      "text/html": [
       "<div>\n",
       "<style scoped>\n",
       "    .dataframe tbody tr th:only-of-type {\n",
       "        vertical-align: middle;\n",
       "    }\n",
       "\n",
       "    .dataframe tbody tr th {\n",
       "        vertical-align: top;\n",
       "    }\n",
       "\n",
       "    .dataframe thead th {\n",
       "        text-align: right;\n",
       "    }\n",
       "</style>\n",
       "<table border=\"1\" class=\"dataframe\">\n",
       "  <thead>\n",
       "    <tr style=\"text-align: right;\">\n",
       "      <th></th>\n",
       "      <th>component_type</th>\n",
       "      <th>label</th>\n",
       "      <th>component</th>\n",
       "    </tr>\n",
       "  </thead>\n",
       "  <tbody>\n",
       "    <tr>\n",
       "      <th>0</th>\n",
       "      <td>grapheme_root</td>\n",
       "      <td>0</td>\n",
       "      <td>ং</td>\n",
       "    </tr>\n",
       "    <tr>\n",
       "      <th>1</th>\n",
       "      <td>grapheme_root</td>\n",
       "      <td>1</td>\n",
       "      <td>ঃ</td>\n",
       "    </tr>\n",
       "    <tr>\n",
       "      <th>2</th>\n",
       "      <td>grapheme_root</td>\n",
       "      <td>2</td>\n",
       "      <td>অ</td>\n",
       "    </tr>\n",
       "  </tbody>\n",
       "</table>\n",
       "</div>"
      ],
      "text/plain": [
       "  component_type  label component\n",
       "0  grapheme_root      0         ং\n",
       "1  grapheme_root      1         ঃ\n",
       "2  grapheme_root      2         অ"
      ]
     },
     "execution_count": 7,
     "metadata": {},
     "output_type": "execute_result"
    }
   ],
   "source": [
    "cm.head(3)"
   ]
  },
  {
   "cell_type": "code",
   "execution_count": 5,
   "metadata": {},
   "outputs": [
    {
     "data": {
      "text/plain": [
       "array(['grapheme_root', 'vowel_diacritic', 'consonant_diacritic'],\n",
       "      dtype=object)"
      ]
     },
     "execution_count": 5,
     "metadata": {},
     "output_type": "execute_result"
    }
   ],
   "source": [
    "cm.component_type.unique()"
   ]
  },
  {
   "cell_type": "code",
   "execution_count": 9,
   "metadata": {},
   "outputs": [],
   "source": [
    "cmap_vow_diac = cm[cm.component_type == \"vowel_diacritic\"]"
   ]
  },
  {
   "cell_type": "code",
   "execution_count": 10,
   "metadata": {},
   "outputs": [
    {
     "data": {
      "text/html": [
       "<div>\n",
       "<style scoped>\n",
       "    .dataframe tbody tr th:only-of-type {\n",
       "        vertical-align: middle;\n",
       "    }\n",
       "\n",
       "    .dataframe tbody tr th {\n",
       "        vertical-align: top;\n",
       "    }\n",
       "\n",
       "    .dataframe thead th {\n",
       "        text-align: right;\n",
       "    }\n",
       "</style>\n",
       "<table border=\"1\" class=\"dataframe\">\n",
       "  <thead>\n",
       "    <tr style=\"text-align: right;\">\n",
       "      <th></th>\n",
       "      <th>component_type</th>\n",
       "      <th>label</th>\n",
       "      <th>component</th>\n",
       "    </tr>\n",
       "  </thead>\n",
       "  <tbody>\n",
       "    <tr>\n",
       "      <th>168</th>\n",
       "      <td>vowel_diacritic</td>\n",
       "      <td>0</td>\n",
       "      <td>0</td>\n",
       "    </tr>\n",
       "    <tr>\n",
       "      <th>169</th>\n",
       "      <td>vowel_diacritic</td>\n",
       "      <td>1</td>\n",
       "      <td>া</td>\n",
       "    </tr>\n",
       "    <tr>\n",
       "      <th>170</th>\n",
       "      <td>vowel_diacritic</td>\n",
       "      <td>2</td>\n",
       "      <td>ি</td>\n",
       "    </tr>\n",
       "    <tr>\n",
       "      <th>171</th>\n",
       "      <td>vowel_diacritic</td>\n",
       "      <td>3</td>\n",
       "      <td>ী</td>\n",
       "    </tr>\n",
       "    <tr>\n",
       "      <th>172</th>\n",
       "      <td>vowel_diacritic</td>\n",
       "      <td>4</td>\n",
       "      <td>ু</td>\n",
       "    </tr>\n",
       "    <tr>\n",
       "      <th>173</th>\n",
       "      <td>vowel_diacritic</td>\n",
       "      <td>5</td>\n",
       "      <td>ূ</td>\n",
       "    </tr>\n",
       "    <tr>\n",
       "      <th>174</th>\n",
       "      <td>vowel_diacritic</td>\n",
       "      <td>6</td>\n",
       "      <td>ৃ</td>\n",
       "    </tr>\n",
       "    <tr>\n",
       "      <th>175</th>\n",
       "      <td>vowel_diacritic</td>\n",
       "      <td>7</td>\n",
       "      <td>ে</td>\n",
       "    </tr>\n",
       "    <tr>\n",
       "      <th>176</th>\n",
       "      <td>vowel_diacritic</td>\n",
       "      <td>8</td>\n",
       "      <td>ৈ</td>\n",
       "    </tr>\n",
       "    <tr>\n",
       "      <th>177</th>\n",
       "      <td>vowel_diacritic</td>\n",
       "      <td>9</td>\n",
       "      <td>ো</td>\n",
       "    </tr>\n",
       "    <tr>\n",
       "      <th>178</th>\n",
       "      <td>vowel_diacritic</td>\n",
       "      <td>10</td>\n",
       "      <td>ৌ</td>\n",
       "    </tr>\n",
       "  </tbody>\n",
       "</table>\n",
       "</div>"
      ],
      "text/plain": [
       "      component_type  label component\n",
       "168  vowel_diacritic      0         0\n",
       "169  vowel_diacritic      1         া\n",
       "170  vowel_diacritic      2         ি\n",
       "171  vowel_diacritic      3         ী\n",
       "172  vowel_diacritic      4         ু\n",
       "173  vowel_diacritic      5         ূ\n",
       "174  vowel_diacritic      6         ৃ\n",
       "175  vowel_diacritic      7         ে\n",
       "176  vowel_diacritic      8         ৈ\n",
       "177  vowel_diacritic      9         ো\n",
       "178  vowel_diacritic     10         ৌ"
      ]
     },
     "execution_count": 10,
     "metadata": {},
     "output_type": "execute_result"
    }
   ],
   "source": [
    "cmap_vow_diac"
   ]
  },
  {
   "cell_type": "code",
   "execution_count": 8,
   "metadata": {},
   "outputs": [],
   "source": [
    "cmap_cons_diac = cm[cm.component_type == \"consonant_diacritic\"]"
   ]
  },
  {
   "cell_type": "code",
   "execution_count": 9,
   "metadata": {},
   "outputs": [
    {
     "data": {
      "text/html": [
       "<div>\n",
       "<style scoped>\n",
       "    .dataframe tbody tr th:only-of-type {\n",
       "        vertical-align: middle;\n",
       "    }\n",
       "\n",
       "    .dataframe tbody tr th {\n",
       "        vertical-align: top;\n",
       "    }\n",
       "\n",
       "    .dataframe thead th {\n",
       "        text-align: right;\n",
       "    }\n",
       "</style>\n",
       "<table border=\"1\" class=\"dataframe\">\n",
       "  <thead>\n",
       "    <tr style=\"text-align: right;\">\n",
       "      <th></th>\n",
       "      <th>component_type</th>\n",
       "      <th>label</th>\n",
       "      <th>component</th>\n",
       "    </tr>\n",
       "  </thead>\n",
       "  <tbody>\n",
       "    <tr>\n",
       "      <th>179</th>\n",
       "      <td>consonant_diacritic</td>\n",
       "      <td>0</td>\n",
       "      <td>0</td>\n",
       "    </tr>\n",
       "    <tr>\n",
       "      <th>180</th>\n",
       "      <td>consonant_diacritic</td>\n",
       "      <td>1</td>\n",
       "      <td>ঁ</td>\n",
       "    </tr>\n",
       "    <tr>\n",
       "      <th>181</th>\n",
       "      <td>consonant_diacritic</td>\n",
       "      <td>2</td>\n",
       "      <td>র্</td>\n",
       "    </tr>\n",
       "    <tr>\n",
       "      <th>182</th>\n",
       "      <td>consonant_diacritic</td>\n",
       "      <td>3</td>\n",
       "      <td>র্য</td>\n",
       "    </tr>\n",
       "    <tr>\n",
       "      <th>183</th>\n",
       "      <td>consonant_diacritic</td>\n",
       "      <td>4</td>\n",
       "      <td>্য</td>\n",
       "    </tr>\n",
       "    <tr>\n",
       "      <th>184</th>\n",
       "      <td>consonant_diacritic</td>\n",
       "      <td>5</td>\n",
       "      <td>্র</td>\n",
       "    </tr>\n",
       "    <tr>\n",
       "      <th>185</th>\n",
       "      <td>consonant_diacritic</td>\n",
       "      <td>6</td>\n",
       "      <td>্র্য</td>\n",
       "    </tr>\n",
       "  </tbody>\n",
       "</table>\n",
       "</div>"
      ],
      "text/plain": [
       "          component_type  label component\n",
       "179  consonant_diacritic      0         0\n",
       "180  consonant_diacritic      1         ঁ\n",
       "181  consonant_diacritic      2        র্\n",
       "182  consonant_diacritic      3       র্য\n",
       "183  consonant_diacritic      4        ্য\n",
       "184  consonant_diacritic      5        ্র\n",
       "185  consonant_diacritic      6      ্র্য"
      ]
     },
     "execution_count": 9,
     "metadata": {},
     "output_type": "execute_result"
    }
   ],
   "source": [
    "cmap_cons_diac"
   ]
  },
  {
   "cell_type": "code",
   "execution_count": 10,
   "metadata": {},
   "outputs": [],
   "source": [
    "cmap_grap_root = cm[cm.component_type == \"grapheme_root\"]"
   ]
  },
  {
   "cell_type": "code",
   "execution_count": 11,
   "metadata": {},
   "outputs": [
    {
     "data": {
      "text/html": [
       "<div>\n",
       "<style scoped>\n",
       "    .dataframe tbody tr th:only-of-type {\n",
       "        vertical-align: middle;\n",
       "    }\n",
       "\n",
       "    .dataframe tbody tr th {\n",
       "        vertical-align: top;\n",
       "    }\n",
       "\n",
       "    .dataframe thead th {\n",
       "        text-align: right;\n",
       "    }\n",
       "</style>\n",
       "<table border=\"1\" class=\"dataframe\">\n",
       "  <thead>\n",
       "    <tr style=\"text-align: right;\">\n",
       "      <th></th>\n",
       "      <th>component_type</th>\n",
       "      <th>label</th>\n",
       "      <th>component</th>\n",
       "    </tr>\n",
       "  </thead>\n",
       "  <tbody>\n",
       "    <tr>\n",
       "      <th>0</th>\n",
       "      <td>grapheme_root</td>\n",
       "      <td>0</td>\n",
       "      <td>ং</td>\n",
       "    </tr>\n",
       "    <tr>\n",
       "      <th>1</th>\n",
       "      <td>grapheme_root</td>\n",
       "      <td>1</td>\n",
       "      <td>ঃ</td>\n",
       "    </tr>\n",
       "    <tr>\n",
       "      <th>2</th>\n",
       "      <td>grapheme_root</td>\n",
       "      <td>2</td>\n",
       "      <td>অ</td>\n",
       "    </tr>\n",
       "    <tr>\n",
       "      <th>3</th>\n",
       "      <td>grapheme_root</td>\n",
       "      <td>3</td>\n",
       "      <td>আ</td>\n",
       "    </tr>\n",
       "    <tr>\n",
       "      <th>4</th>\n",
       "      <td>grapheme_root</td>\n",
       "      <td>4</td>\n",
       "      <td>ই</td>\n",
       "    </tr>\n",
       "    <tr>\n",
       "      <th>5</th>\n",
       "      <td>grapheme_root</td>\n",
       "      <td>5</td>\n",
       "      <td>ঈ</td>\n",
       "    </tr>\n",
       "    <tr>\n",
       "      <th>6</th>\n",
       "      <td>grapheme_root</td>\n",
       "      <td>6</td>\n",
       "      <td>উ</td>\n",
       "    </tr>\n",
       "    <tr>\n",
       "      <th>7</th>\n",
       "      <td>grapheme_root</td>\n",
       "      <td>7</td>\n",
       "      <td>ঊ</td>\n",
       "    </tr>\n",
       "    <tr>\n",
       "      <th>8</th>\n",
       "      <td>grapheme_root</td>\n",
       "      <td>8</td>\n",
       "      <td>ঋ</td>\n",
       "    </tr>\n",
       "    <tr>\n",
       "      <th>9</th>\n",
       "      <td>grapheme_root</td>\n",
       "      <td>9</td>\n",
       "      <td>এ</td>\n",
       "    </tr>\n",
       "    <tr>\n",
       "      <th>10</th>\n",
       "      <td>grapheme_root</td>\n",
       "      <td>10</td>\n",
       "      <td>ঐ</td>\n",
       "    </tr>\n",
       "    <tr>\n",
       "      <th>11</th>\n",
       "      <td>grapheme_root</td>\n",
       "      <td>11</td>\n",
       "      <td>ও</td>\n",
       "    </tr>\n",
       "    <tr>\n",
       "      <th>12</th>\n",
       "      <td>grapheme_root</td>\n",
       "      <td>12</td>\n",
       "      <td>ঔ</td>\n",
       "    </tr>\n",
       "    <tr>\n",
       "      <th>13</th>\n",
       "      <td>grapheme_root</td>\n",
       "      <td>13</td>\n",
       "      <td>ক</td>\n",
       "    </tr>\n",
       "    <tr>\n",
       "      <th>14</th>\n",
       "      <td>grapheme_root</td>\n",
       "      <td>14</td>\n",
       "      <td>ক্ক</td>\n",
       "    </tr>\n",
       "    <tr>\n",
       "      <th>15</th>\n",
       "      <td>grapheme_root</td>\n",
       "      <td>15</td>\n",
       "      <td>ক্ট</td>\n",
       "    </tr>\n",
       "    <tr>\n",
       "      <th>16</th>\n",
       "      <td>grapheme_root</td>\n",
       "      <td>16</td>\n",
       "      <td>ক্ত</td>\n",
       "    </tr>\n",
       "    <tr>\n",
       "      <th>17</th>\n",
       "      <td>grapheme_root</td>\n",
       "      <td>17</td>\n",
       "      <td>ক্ল</td>\n",
       "    </tr>\n",
       "    <tr>\n",
       "      <th>18</th>\n",
       "      <td>grapheme_root</td>\n",
       "      <td>18</td>\n",
       "      <td>ক্ষ</td>\n",
       "    </tr>\n",
       "    <tr>\n",
       "      <th>19</th>\n",
       "      <td>grapheme_root</td>\n",
       "      <td>19</td>\n",
       "      <td>ক্ষ্ণ</td>\n",
       "    </tr>\n",
       "    <tr>\n",
       "      <th>20</th>\n",
       "      <td>grapheme_root</td>\n",
       "      <td>20</td>\n",
       "      <td>ক্ষ্ম</td>\n",
       "    </tr>\n",
       "    <tr>\n",
       "      <th>21</th>\n",
       "      <td>grapheme_root</td>\n",
       "      <td>21</td>\n",
       "      <td>ক্স</td>\n",
       "    </tr>\n",
       "    <tr>\n",
       "      <th>22</th>\n",
       "      <td>grapheme_root</td>\n",
       "      <td>22</td>\n",
       "      <td>খ</td>\n",
       "    </tr>\n",
       "    <tr>\n",
       "      <th>23</th>\n",
       "      <td>grapheme_root</td>\n",
       "      <td>23</td>\n",
       "      <td>গ</td>\n",
       "    </tr>\n",
       "    <tr>\n",
       "      <th>24</th>\n",
       "      <td>grapheme_root</td>\n",
       "      <td>24</td>\n",
       "      <td>গ্ধ</td>\n",
       "    </tr>\n",
       "    <tr>\n",
       "      <th>25</th>\n",
       "      <td>grapheme_root</td>\n",
       "      <td>25</td>\n",
       "      <td>গ্ন</td>\n",
       "    </tr>\n",
       "    <tr>\n",
       "      <th>26</th>\n",
       "      <td>grapheme_root</td>\n",
       "      <td>26</td>\n",
       "      <td>গ্ব</td>\n",
       "    </tr>\n",
       "    <tr>\n",
       "      <th>27</th>\n",
       "      <td>grapheme_root</td>\n",
       "      <td>27</td>\n",
       "      <td>গ্ম</td>\n",
       "    </tr>\n",
       "    <tr>\n",
       "      <th>28</th>\n",
       "      <td>grapheme_root</td>\n",
       "      <td>28</td>\n",
       "      <td>গ্ল</td>\n",
       "    </tr>\n",
       "    <tr>\n",
       "      <th>29</th>\n",
       "      <td>grapheme_root</td>\n",
       "      <td>29</td>\n",
       "      <td>ঘ</td>\n",
       "    </tr>\n",
       "    <tr>\n",
       "      <th>...</th>\n",
       "      <td>...</td>\n",
       "      <td>...</td>\n",
       "      <td>...</td>\n",
       "    </tr>\n",
       "    <tr>\n",
       "      <th>138</th>\n",
       "      <td>grapheme_root</td>\n",
       "      <td>138</td>\n",
       "      <td>শ্ল</td>\n",
       "    </tr>\n",
       "    <tr>\n",
       "      <th>139</th>\n",
       "      <td>grapheme_root</td>\n",
       "      <td>139</td>\n",
       "      <td>ষ</td>\n",
       "    </tr>\n",
       "    <tr>\n",
       "      <th>140</th>\n",
       "      <td>grapheme_root</td>\n",
       "      <td>140</td>\n",
       "      <td>ষ্ক</td>\n",
       "    </tr>\n",
       "    <tr>\n",
       "      <th>141</th>\n",
       "      <td>grapheme_root</td>\n",
       "      <td>141</td>\n",
       "      <td>ষ্ট</td>\n",
       "    </tr>\n",
       "    <tr>\n",
       "      <th>142</th>\n",
       "      <td>grapheme_root</td>\n",
       "      <td>142</td>\n",
       "      <td>ষ্ঠ</td>\n",
       "    </tr>\n",
       "    <tr>\n",
       "      <th>143</th>\n",
       "      <td>grapheme_root</td>\n",
       "      <td>143</td>\n",
       "      <td>ষ্ণ</td>\n",
       "    </tr>\n",
       "    <tr>\n",
       "      <th>144</th>\n",
       "      <td>grapheme_root</td>\n",
       "      <td>144</td>\n",
       "      <td>ষ্প</td>\n",
       "    </tr>\n",
       "    <tr>\n",
       "      <th>145</th>\n",
       "      <td>grapheme_root</td>\n",
       "      <td>145</td>\n",
       "      <td>ষ্ফ</td>\n",
       "    </tr>\n",
       "    <tr>\n",
       "      <th>146</th>\n",
       "      <td>grapheme_root</td>\n",
       "      <td>146</td>\n",
       "      <td>ষ্ম</td>\n",
       "    </tr>\n",
       "    <tr>\n",
       "      <th>147</th>\n",
       "      <td>grapheme_root</td>\n",
       "      <td>147</td>\n",
       "      <td>স</td>\n",
       "    </tr>\n",
       "    <tr>\n",
       "      <th>148</th>\n",
       "      <td>grapheme_root</td>\n",
       "      <td>148</td>\n",
       "      <td>স্ক</td>\n",
       "    </tr>\n",
       "    <tr>\n",
       "      <th>149</th>\n",
       "      <td>grapheme_root</td>\n",
       "      <td>149</td>\n",
       "      <td>স্ট</td>\n",
       "    </tr>\n",
       "    <tr>\n",
       "      <th>150</th>\n",
       "      <td>grapheme_root</td>\n",
       "      <td>150</td>\n",
       "      <td>স্ত</td>\n",
       "    </tr>\n",
       "    <tr>\n",
       "      <th>151</th>\n",
       "      <td>grapheme_root</td>\n",
       "      <td>151</td>\n",
       "      <td>স্থ</td>\n",
       "    </tr>\n",
       "    <tr>\n",
       "      <th>152</th>\n",
       "      <td>grapheme_root</td>\n",
       "      <td>152</td>\n",
       "      <td>স্ন</td>\n",
       "    </tr>\n",
       "    <tr>\n",
       "      <th>153</th>\n",
       "      <td>grapheme_root</td>\n",
       "      <td>153</td>\n",
       "      <td>স্প</td>\n",
       "    </tr>\n",
       "    <tr>\n",
       "      <th>154</th>\n",
       "      <td>grapheme_root</td>\n",
       "      <td>154</td>\n",
       "      <td>স্ফ</td>\n",
       "    </tr>\n",
       "    <tr>\n",
       "      <th>155</th>\n",
       "      <td>grapheme_root</td>\n",
       "      <td>155</td>\n",
       "      <td>স্ব</td>\n",
       "    </tr>\n",
       "    <tr>\n",
       "      <th>156</th>\n",
       "      <td>grapheme_root</td>\n",
       "      <td>156</td>\n",
       "      <td>স্ম</td>\n",
       "    </tr>\n",
       "    <tr>\n",
       "      <th>157</th>\n",
       "      <td>grapheme_root</td>\n",
       "      <td>157</td>\n",
       "      <td>স্ল</td>\n",
       "    </tr>\n",
       "    <tr>\n",
       "      <th>158</th>\n",
       "      <td>grapheme_root</td>\n",
       "      <td>158</td>\n",
       "      <td>স্স</td>\n",
       "    </tr>\n",
       "    <tr>\n",
       "      <th>159</th>\n",
       "      <td>grapheme_root</td>\n",
       "      <td>159</td>\n",
       "      <td>হ</td>\n",
       "    </tr>\n",
       "    <tr>\n",
       "      <th>160</th>\n",
       "      <td>grapheme_root</td>\n",
       "      <td>160</td>\n",
       "      <td>হ্ন</td>\n",
       "    </tr>\n",
       "    <tr>\n",
       "      <th>161</th>\n",
       "      <td>grapheme_root</td>\n",
       "      <td>161</td>\n",
       "      <td>হ্ব</td>\n",
       "    </tr>\n",
       "    <tr>\n",
       "      <th>162</th>\n",
       "      <td>grapheme_root</td>\n",
       "      <td>162</td>\n",
       "      <td>হ্ম</td>\n",
       "    </tr>\n",
       "    <tr>\n",
       "      <th>163</th>\n",
       "      <td>grapheme_root</td>\n",
       "      <td>163</td>\n",
       "      <td>হ্ল</td>\n",
       "    </tr>\n",
       "    <tr>\n",
       "      <th>164</th>\n",
       "      <td>grapheme_root</td>\n",
       "      <td>164</td>\n",
       "      <td>ৎ</td>\n",
       "    </tr>\n",
       "    <tr>\n",
       "      <th>165</th>\n",
       "      <td>grapheme_root</td>\n",
       "      <td>165</td>\n",
       "      <td>ড়</td>\n",
       "    </tr>\n",
       "    <tr>\n",
       "      <th>166</th>\n",
       "      <td>grapheme_root</td>\n",
       "      <td>166</td>\n",
       "      <td>ঢ়</td>\n",
       "    </tr>\n",
       "    <tr>\n",
       "      <th>167</th>\n",
       "      <td>grapheme_root</td>\n",
       "      <td>167</td>\n",
       "      <td>য়</td>\n",
       "    </tr>\n",
       "  </tbody>\n",
       "</table>\n",
       "<p>168 rows × 3 columns</p>\n",
       "</div>"
      ],
      "text/plain": [
       "    component_type  label component\n",
       "0    grapheme_root      0         ং\n",
       "1    grapheme_root      1         ঃ\n",
       "2    grapheme_root      2         অ\n",
       "3    grapheme_root      3         আ\n",
       "4    grapheme_root      4         ই\n",
       "5    grapheme_root      5         ঈ\n",
       "6    grapheme_root      6         উ\n",
       "7    grapheme_root      7         ঊ\n",
       "8    grapheme_root      8         ঋ\n",
       "9    grapheme_root      9         এ\n",
       "10   grapheme_root     10         ঐ\n",
       "11   grapheme_root     11         ও\n",
       "12   grapheme_root     12         ঔ\n",
       "13   grapheme_root     13         ক\n",
       "14   grapheme_root     14       ক্ক\n",
       "15   grapheme_root     15       ক্ট\n",
       "16   grapheme_root     16       ক্ত\n",
       "17   grapheme_root     17       ক্ল\n",
       "18   grapheme_root     18       ক্ষ\n",
       "19   grapheme_root     19     ক্ষ্ণ\n",
       "20   grapheme_root     20     ক্ষ্ম\n",
       "21   grapheme_root     21       ক্স\n",
       "22   grapheme_root     22         খ\n",
       "23   grapheme_root     23         গ\n",
       "24   grapheme_root     24       গ্ধ\n",
       "25   grapheme_root     25       গ্ন\n",
       "26   grapheme_root     26       গ্ব\n",
       "27   grapheme_root     27       গ্ম\n",
       "28   grapheme_root     28       গ্ল\n",
       "29   grapheme_root     29         ঘ\n",
       "..             ...    ...       ...\n",
       "138  grapheme_root    138       শ্ল\n",
       "139  grapheme_root    139         ষ\n",
       "140  grapheme_root    140       ষ্ক\n",
       "141  grapheme_root    141       ষ্ট\n",
       "142  grapheme_root    142       ষ্ঠ\n",
       "143  grapheme_root    143       ষ্ণ\n",
       "144  grapheme_root    144       ষ্প\n",
       "145  grapheme_root    145       ষ্ফ\n",
       "146  grapheme_root    146       ষ্ম\n",
       "147  grapheme_root    147         স\n",
       "148  grapheme_root    148       স্ক\n",
       "149  grapheme_root    149       স্ট\n",
       "150  grapheme_root    150       স্ত\n",
       "151  grapheme_root    151       স্থ\n",
       "152  grapheme_root    152       স্ন\n",
       "153  grapheme_root    153       স্প\n",
       "154  grapheme_root    154       স্ফ\n",
       "155  grapheme_root    155       স্ব\n",
       "156  grapheme_root    156       স্ম\n",
       "157  grapheme_root    157       স্ল\n",
       "158  grapheme_root    158       স্স\n",
       "159  grapheme_root    159         হ\n",
       "160  grapheme_root    160       হ্ন\n",
       "161  grapheme_root    161       হ্ব\n",
       "162  grapheme_root    162       হ্ম\n",
       "163  grapheme_root    163       হ্ল\n",
       "164  grapheme_root    164         ৎ\n",
       "165  grapheme_root    165         ড়\n",
       "166  grapheme_root    166         ঢ়\n",
       "167  grapheme_root    167         য়\n",
       "\n",
       "[168 rows x 3 columns]"
      ]
     },
     "execution_count": 11,
     "metadata": {},
     "output_type": "execute_result"
    }
   ],
   "source": [
    "cmap_grap_root"
   ]
  },
  {
   "cell_type": "code",
   "execution_count": 12,
   "metadata": {},
   "outputs": [],
   "source": [
    "trn = pd.read_csv(\"data/train.csv\")"
   ]
  },
  {
   "cell_type": "code",
   "execution_count": 13,
   "metadata": {},
   "outputs": [
    {
     "data": {
      "text/html": [
       "<div>\n",
       "<style scoped>\n",
       "    .dataframe tbody tr th:only-of-type {\n",
       "        vertical-align: middle;\n",
       "    }\n",
       "\n",
       "    .dataframe tbody tr th {\n",
       "        vertical-align: top;\n",
       "    }\n",
       "\n",
       "    .dataframe thead th {\n",
       "        text-align: right;\n",
       "    }\n",
       "</style>\n",
       "<table border=\"1\" class=\"dataframe\">\n",
       "  <thead>\n",
       "    <tr style=\"text-align: right;\">\n",
       "      <th></th>\n",
       "      <th>image_id</th>\n",
       "      <th>grapheme_root</th>\n",
       "      <th>vowel_diacritic</th>\n",
       "      <th>consonant_diacritic</th>\n",
       "      <th>grapheme</th>\n",
       "    </tr>\n",
       "  </thead>\n",
       "  <tbody>\n",
       "    <tr>\n",
       "      <th>0</th>\n",
       "      <td>Train_0</td>\n",
       "      <td>15</td>\n",
       "      <td>9</td>\n",
       "      <td>5</td>\n",
       "      <td>ক্ট্রো</td>\n",
       "    </tr>\n",
       "    <tr>\n",
       "      <th>1</th>\n",
       "      <td>Train_1</td>\n",
       "      <td>159</td>\n",
       "      <td>0</td>\n",
       "      <td>0</td>\n",
       "      <td>হ</td>\n",
       "    </tr>\n",
       "    <tr>\n",
       "      <th>2</th>\n",
       "      <td>Train_2</td>\n",
       "      <td>22</td>\n",
       "      <td>3</td>\n",
       "      <td>5</td>\n",
       "      <td>খ্রী</td>\n",
       "    </tr>\n",
       "    <tr>\n",
       "      <th>3</th>\n",
       "      <td>Train_3</td>\n",
       "      <td>53</td>\n",
       "      <td>2</td>\n",
       "      <td>2</td>\n",
       "      <td>র্টি</td>\n",
       "    </tr>\n",
       "    <tr>\n",
       "      <th>4</th>\n",
       "      <td>Train_4</td>\n",
       "      <td>71</td>\n",
       "      <td>9</td>\n",
       "      <td>5</td>\n",
       "      <td>থ্রো</td>\n",
       "    </tr>\n",
       "    <tr>\n",
       "      <th>5</th>\n",
       "      <td>Train_5</td>\n",
       "      <td>153</td>\n",
       "      <td>9</td>\n",
       "      <td>0</td>\n",
       "      <td>স্পো</td>\n",
       "    </tr>\n",
       "    <tr>\n",
       "      <th>6</th>\n",
       "      <td>Train_6</td>\n",
       "      <td>52</td>\n",
       "      <td>2</td>\n",
       "      <td>0</td>\n",
       "      <td>ঞ্জি</td>\n",
       "    </tr>\n",
       "    <tr>\n",
       "      <th>7</th>\n",
       "      <td>Train_7</td>\n",
       "      <td>139</td>\n",
       "      <td>3</td>\n",
       "      <td>0</td>\n",
       "      <td>ষী</td>\n",
       "    </tr>\n",
       "    <tr>\n",
       "      <th>8</th>\n",
       "      <td>Train_8</td>\n",
       "      <td>67</td>\n",
       "      <td>0</td>\n",
       "      <td>0</td>\n",
       "      <td>ত্থ</td>\n",
       "    </tr>\n",
       "    <tr>\n",
       "      <th>9</th>\n",
       "      <td>Train_9</td>\n",
       "      <td>64</td>\n",
       "      <td>7</td>\n",
       "      <td>1</td>\n",
       "      <td>তেঁ</td>\n",
       "    </tr>\n",
       "    <tr>\n",
       "      <th>10</th>\n",
       "      <td>Train_10</td>\n",
       "      <td>115</td>\n",
       "      <td>1</td>\n",
       "      <td>2</td>\n",
       "      <td>র্মা</td>\n",
       "    </tr>\n",
       "    <tr>\n",
       "      <th>11</th>\n",
       "      <td>Train_11</td>\n",
       "      <td>107</td>\n",
       "      <td>0</td>\n",
       "      <td>3</td>\n",
       "      <td>র্ব্য</td>\n",
       "    </tr>\n",
       "  </tbody>\n",
       "</table>\n",
       "</div>"
      ],
      "text/plain": [
       "    image_id  grapheme_root  vowel_diacritic  consonant_diacritic grapheme\n",
       "0    Train_0             15                9                    5   ক্ট্রো\n",
       "1    Train_1            159                0                    0        হ\n",
       "2    Train_2             22                3                    5     খ্রী\n",
       "3    Train_3             53                2                    2     র্টি\n",
       "4    Train_4             71                9                    5     থ্রো\n",
       "5    Train_5            153                9                    0     স্পো\n",
       "6    Train_6             52                2                    0     ঞ্জি\n",
       "7    Train_7            139                3                    0       ষী\n",
       "8    Train_8             67                0                    0      ত্থ\n",
       "9    Train_9             64                7                    1      তেঁ\n",
       "10  Train_10            115                1                    2     র্মা\n",
       "11  Train_11            107                0                    3    র্ব্য"
      ]
     },
     "execution_count": 13,
     "metadata": {},
     "output_type": "execute_result"
    }
   ],
   "source": [
    "trn.head(12)"
   ]
  },
  {
   "cell_type": "code",
   "execution_count": 14,
   "metadata": {},
   "outputs": [
    {
     "data": {
      "text/plain": [
       "Index(['component_type', 'label', 'component'], dtype='object')"
      ]
     },
     "execution_count": 14,
     "metadata": {},
     "output_type": "execute_result"
    }
   ],
   "source": [
    "cm.columns"
   ]
  },
  {
   "cell_type": "code",
   "execution_count": 15,
   "metadata": {},
   "outputs": [
    {
     "data": {
      "text/plain": [
       "200840"
      ]
     },
     "execution_count": 15,
     "metadata": {},
     "output_type": "execute_result"
    }
   ],
   "source": [
    "len(trn)"
   ]
  },
  {
   "cell_type": "code",
   "execution_count": 16,
   "metadata": {},
   "outputs": [
    {
     "name": "stdout",
     "output_type": "stream",
     "text": [
      "class_map.csv\t       test_image_data_0.parquet  train_image_data_0.parquet\r\n",
      "Kalpurush.ttf\t       test_image_data_1.parquet  train_image_data_1.parquet\r\n",
      "Kalpurush.zip\t       test_image_data_2.parquet  train_image_data_2.parquet\r\n",
      "sample_submission.csv  test_image_data_3.parquet  train_image_data_3.parquet\r\n",
      "test.csv\t       train.csv\r\n"
     ]
    }
   ],
   "source": [
    "!ls data"
   ]
  },
  {
   "cell_type": "code",
   "execution_count": 17,
   "metadata": {},
   "outputs": [],
   "source": [
    "HEIGHT = 237\n",
    "WIDTH = 336\n",
    "def image_from_char(char):\n",
    "    image = Image.new('RGB', (WIDTH, HEIGHT))\n",
    "    draw = ImageDraw.Draw(image)\n",
    "    myfont = ImageFont.truetype('./data/Kalpurush.ttf', 120)\n",
    "    w, h = draw.textsize(char, font=myfont)\n",
    "    draw.text(((WIDTH - w) / 2,(HEIGHT - h) / 3), char, font=myfont)\n",
    "    \n",
    "    return image"
   ]
  },
  {
   "cell_type": "code",
   "execution_count": 18,
   "metadata": {},
   "outputs": [
    {
     "data": {
      "text/plain": [
       "'ক্ট্রো'"
      ]
     },
     "execution_count": 18,
     "metadata": {},
     "output_type": "execute_result"
    }
   ],
   "source": [
    "trn.grapheme[0]"
   ]
  },
  {
   "cell_type": "code",
   "execution_count": 19,
   "metadata": {},
   "outputs": [
    {
     "data": {
      "text/plain": [
       "<matplotlib.image.AxesImage at 0x7f8a7dc39898>"
      ]
     },
     "execution_count": 19,
     "metadata": {},
     "output_type": "execute_result"
    },
    {
     "data": {
      "image/png": "[encoded data removed]",
      "text/plain": [
       "<Figure size 432x288 with 1 Axes>"
      ]
     },
     "metadata": {
      "needs_background": "light"
     },
     "output_type": "display_data"
    }
   ],
   "source": [
    "plt.imshow(image_from_char(trn.grapheme[0]))"
   ]
  },
  {
   "cell_type": "markdown",
   "metadata": {},
   "source": [
    "### take a grapheme and display -> graphreme root, vow and conso diactritics"
   ]
  },
  {
   "cell_type": "code",
   "execution_count": 20,
   "metadata": {},
   "outputs": [],
   "source": [
    "# train.csv has a map from grapheme to grapheme root, and dicritics\n",
    "# cmap_vow_diac maps from vow diacritic index to character in font\n",
    "# cmap_cons_diac from conso diacritic index to character in font\n",
    "# cmap_grap_root from index to grapeme root\n",
    "# all indices are available in train.csv\n",
    "# read a row in train.csv and plot grapherme, root and dicatritcs"
   ]
  },
  {
   "cell_type": "code",
   "execution_count": 21,
   "metadata": {},
   "outputs": [],
   "source": [
    "im_id,root,vd,cd,grap = trn.loc[0]"
   ]
  },
  {
   "cell_type": "code",
   "execution_count": 22,
   "metadata": {},
   "outputs": [
    {
     "data": {
      "text/plain": [
       "array(['Train_0', 15, 9, 5, 'ক্ট্রো'], dtype=object)"
      ]
     },
     "execution_count": 22,
     "metadata": {},
     "output_type": "execute_result"
    }
   ],
   "source": [
    "trn.loc[0].values"
   ]
  },
  {
   "cell_type": "code",
   "execution_count": 195,
   "metadata": {},
   "outputs": [],
   "source": [
    "def k():\n",
    "    for i,data in trn.iterrows():\n",
    "        f, ax = plt.subplots(2,2,figsize=(6,6))\n",
    "        ax = ax.flatten()\n",
    "        print(i)\n",
    "        ax[0].imshow(image_from_char(data.grapheme)) # grapheme\n",
    "        ax[1].imshow(image_from_char(cmap_grap_root.component[cmap_grap_root.label==data.grapheme_root].values[0])) #root\n",
    "        ax[2].imshow(image_from_char(cmap_vow_diac.component[cmap_vow_diac.label==data.vowel_diacritic].values[0])) #root\n",
    "        ax[3].imshow(image_from_char(cmap_cons_diac.component[cmap_cons_diac.label==data.consonant_diacritic].values[0])) \n",
    "        f.canvas.draw()\n",
    "        yield\n"
   ]
  },
  {
   "cell_type": "code",
   "execution_count": 220,
   "metadata": {},
   "outputs": [],
   "source": [
    "g = k()"
   ]
  },
  {
   "cell_type": "code",
   "execution_count": 289,
   "metadata": {},
   "outputs": [
    {
     "name": "stdout",
     "output_type": "stream",
     "text": [
      "68\n"
     ]
    },
    {
     "data": {
      "image/png": "[encoded data removed]",
      "text/plain": [
       "<Figure size 432x432 with 4 Axes>"
      ]
     },
     "metadata": {
      "needs_background": "light"
     },
     "output_type": "display_data"
    }
   ],
   "source": [
    "next(g)"
   ]
  },
  {
   "cell_type": "code",
   "execution_count": null,
   "metadata": {},
   "outputs": [],
   "source": []
  },
  {
   "cell_type": "code",
   "execution_count": null,
   "metadata": {},
   "outputs": [],
   "source": []
  },
  {
   "cell_type": "code",
   "execution_count": null,
   "metadata": {},
   "outputs": [],
   "source": []
  },
  {
   "cell_type": "code",
   "execution_count": null,
   "metadata": {},
   "outputs": [],
   "source": []
  },
  {
   "cell_type": "code",
   "execution_count": null,
   "metadata": {},
   "outputs": [],
   "source": []
  },
  {
   "cell_type": "code",
   "execution_count": null,
   "metadata": {},
   "outputs": [],
   "source": []
  },
  {
   "cell_type": "code",
   "execution_count": null,
   "metadata": {},
   "outputs": [],
   "source": []
  },
  {
   "cell_type": "code",
   "execution_count": null,
   "metadata": {},
   "outputs": [],
   "source": []
  }
 ],
 "metadata": {
  "kernelspec": {
   "display_name": "Python 3",
   "language": "python",
   "name": "python3"
  },
  "language_info": {
   "codemirror_mode": {
    "name": "ipython",
    "version": 3
   },
   "file_extension": ".py",
   "mimetype": "text/x-python",
   "name": "python",
   "nbconvert_exporter": "python",
   "pygments_lexer": "ipython3",
   "version": "3.7.2"
  }
 },
 "nbformat": 4,
 "nbformat_minor": 2
}
